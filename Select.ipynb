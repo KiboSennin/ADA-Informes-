{
  "nbformat": 4,
  "nbformat_minor": 0,
  "metadata": {
    "colab": {
      "provenance": [],
      "authorship_tag": "ABX9TyO2Ilrpn91OsOSDAy2xazPl",
      "include_colab_link": true
    },
    "kernelspec": {
      "name": "python3",
      "display_name": "Python 3"
    },
    "language_info": {
      "name": "python"
    }
  },
  "cells": [
    {
      "cell_type": "markdown",
      "metadata": {
        "id": "view-in-github",
        "colab_type": "text"
      },
      "source": [
        "<a href=\"https://colab.research.google.com/github/KiboSennin/ADA-Informes-/blob/main/Select.ipynb\" target=\"_parent\"><img src=\"https://colab.research.google.com/assets/colab-badge.svg\" alt=\"Open In Colab\"/></a>"
      ]
    },
    {
      "cell_type": "markdown",
      "source": [
        "# 1) Descipcion del problema"
      ],
      "metadata": {
        "id": "0PfRyLjzfqPE"
      }
    },
    {
      "cell_type": "markdown",
      "source": [
        "Nosotros queremos encontrar un elemento X dentro de un arreglo el cual se encuentra en la i-esima posición dentro del arreglo A\n",
        "\n",
        "Para ello tenemos una entrada de un conjunto de elementos dentro de un arreglo que denominaremos arreglo A.\n",
        "\n",
        "Como salida queremos que nos entregue un elemento X perteneciente al arreglo A el cual sea exactemente mayor que los elementos i - 1 dentro del arreglo"
      ],
      "metadata": {
        "id": "oCrJ8Iy1mArK"
      }
    },
    {
      "cell_type": "markdown",
      "source": [
        "## 2) Descripción del algoritmo"
      ],
      "metadata": {
        "id": "f38GkTPm97wl"
      }
    },
    {
      "cell_type": "markdown",
      "source": [
        "El algoritmo consta de 2 partes fundamentales, por un lado tenemos el partition que es la parte donde seleciona el pivote con el cual vamos a trabajar, por otro lado tenemos el selection el cual verificará y encontrara el i-esimo valor "
      ],
      "metadata": {
        "id": "5XI2SioC-C7O"
      }
    },
    {
      "cell_type": "markdown",
      "source": [
        "## 2.1) Partition"
      ],
      "metadata": {
        "id": "91GQNsbU-C_k"
      }
    },
    {
      "cell_type": "markdown",
      "source": [
        "Dentro de lo que es el partition tenemos 2 caminos a seguir los cuales son el random-partition y el select-partition la diferencia principal es el metodo para seleccionar el pivote que necesitamos para poder trabajar mas adelante"
      ],
      "metadata": {
        "id": "V2PXiwhHCtnN"
      }
    },
    {
      "cell_type": "markdown",
      "source": [
        "### 2.1.1) Select-Partition\n"
      ],
      "metadata": {
        "id": "NxHPd9QbD-ok"
      }
    },
    {
      "cell_type": "markdown",
      "source": [
        "Este partition consta de dentro del arreglo A lo agrupamos arreglos de 5 elementos o mejor dicho agrupamos los x veces grupos de 5 elementos como sea posible. Luego de formar los grupos aplicamos insertion sort para ordenar estos grupos para inmediatamente poder calcular la mediana de dichos arreglos para asi formar un arreglo de medianas. Una vez obtenido el arreglo de medianas tenemos que sacar la mediana del arreglo de medianas para ello podemos ocupar la funcion select dentro del mismo algoritmo y de esta forma obtenemos la mediana de medianas la cual funciona como el mejor pivote calculable."
      ],
      "metadata": {
        "id": "_MPLvYgHEFp1"
      }
    },
    {
      "cell_type": "markdown",
      "source": [
        "![image.png](data:image/png;base64,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) "
      ],
      "metadata": {
        "id": "B7_UF1ooL7I3"
      }
    },
    {
      "cell_type": "markdown",
      "source": [
        "### 2.1.2) Radom-pertition"
      ],
      "metadata": {
        "id": "-kdlxC4WGBE5"
      }
    },
    {
      "cell_type": "markdown",
      "source": [
        "Random-partition es bastante mas simple en comparación a lo que es Select-partition esto es debido a que para seleccionar un pivote nosotros aplicamos una función random(x) el cual nos entre un valor random dentro del arreglo, este valor sera nuestro pivote para las siguientes iteraciones y pasos a seguir."
      ],
      "metadata": {
        "id": "6CSurAGuGIDO"
      }
    },
    {
      "cell_type": "markdown",
      "source": [
        "![image.png](data:image/png;base64,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)"
      ],
      "metadata": {
        "id": "r-hE5ZZwL3la"
      }
    },
    {
      "cell_type": "markdown",
      "source": [
        "## 2.1.3) Select \n"
      ],
      "metadata": {
        "id": "VL8YtkUEHBl8"
      }
    },
    {
      "cell_type": "markdown",
      "source": [
        "Para lo que es el select tenemos que es una funcion recursiva de forma tal donde tenemos un caso base que verifica si el i-esimo número que estamos buscando es perteneciente al pivote o no, si no es igual al pivote entonces vemos si nuestro i es mayor o menor al pivote dependiendo de ello es cual lado escogeremos para poder trabajar, una vez decidido que lado trabajar llamamos recursivamente a select entregandole el lado a trabajar y esto se va a iterar hasta encontrar la i-esima posicion con el valor deseado retornando dicho valor."
      ],
      "metadata": {
        "id": "Kc_uZ6roHEts"
      }
    },
    {
      "cell_type": "markdown",
      "source": [
        "agregar imagenes descriptivas"
      ],
      "metadata": {
        "id": "fAElY428LtES"
      }
    },
    {
      "cell_type": "markdown",
      "source": [],
      "metadata": {
        "id": "H_Zm4atfLtJh"
      }
    },
    {
      "cell_type": "markdown",
      "source": [
        "# 3) Codigo"
      ],
      "metadata": {
        "id": "wE4UUdObGIjk"
      }
    },
    {
      "cell_type": "code",
      "source": [
        "def insertionSort(a):\n",
        "  aux = 0;\n",
        "  n = len(a)\n",
        "  for i in range(1, len(a)):\n",
        "    clave = a[i]\n",
        "    j = i - 1    \n",
        "\n",
        "    while j >= 0 and clave < a[j]:\n",
        "       aux = aux + 1\n",
        "       a[j + 1] = a[j]\n",
        "       j = j - 1\n",
        "    a[j + 1] = clave\n",
        "\n",
        "  return a, aux"
      ],
      "metadata": {
        "id": "B3rr4OJyQ09L"
      },
      "execution_count": 80,
      "outputs": []
    },
    {
      "cell_type": "code",
      "source": [
        "def randomPartition(arr, l, r) :\n",
        "    n = r - l + 1;\n",
        "    pivot = random.randrange(1, 100) % n;\n",
        "    arr[l + pivot], arr[r] = arr[r], arr[l + pivot];\n",
        "    return partition(arr, l, r);"
      ],
      "metadata": {
        "id": "vmHRJiyRgIzP"
      },
      "execution_count": 79,
      "outputs": []
    },
    {
      "cell_type": "code",
      "source": [
        "import math \n",
        "\n",
        "def pivot_select(arr, low, high):\n",
        "  contador_grupos = math.ceil((high - low + 1)/5)\n",
        "  indice_medianas = []\n",
        "  medianas = []\n",
        "  global i\n",
        "  for k in range(contador_grupos):\n",
        "    rangoLow = low + 5 * k\n",
        "    rangoHigh = low+4 + 5 * k\n",
        "\n",
        "    if (rangoHigh > high):\n",
        "      rangoHigh = high\n",
        "\n",
        "    arr[rangoLow:rangoHigh + 1] = insertionSort(arr[rangoLow:rangoHigh + 1])\n",
        "    indice_medianas.append((rangoHigh + rangoLow)//2)\n",
        "    medianas.append(arr[indice_medianas[k]])\n",
        "\n",
        "  medianas = insertionSort(medianas)\n",
        "  medianaDeMedianas = medianas[contador_grupos//2]\n",
        "  \n",
        "  for k, value in enumerate(str(contador_grupos)):\n",
        "    if (medianaDeMedianas == arr[indice_medianas[k]]):\n",
        "      i = indice_medianas[k]\n",
        "      break\n",
        "\n",
        "  (arr[high], arr[i]) = (arr[i], arr[high])\n",
        "  return partition(arr,low,high)\n",
        "  "
      ],
      "metadata": {
        "id": "UnxidhxROEri"
      },
      "execution_count": 89,
      "outputs": []
    },
    {
      "cell_type": "code",
      "source": [
        "def partition(arr, l, r):\n",
        "  \n",
        "  x = arr[r]\n",
        "  i = l\n",
        "  for j in range(l, r):\n",
        "    if arr[j] <= x:\n",
        "      arr[i], arr[j] = arr[j], arr[i]\n",
        "      i += 1\n",
        "              \n",
        "  arr[i], arr[r] = arr[r], arr[i]\n",
        "  return i "
      ],
      "metadata": {
        "id": "VLVJginiOQv1"
      },
      "execution_count": 3,
      "outputs": []
    },
    {
      "cell_type": "code",
      "source": [
        "def select(arr, l, r, k, verbose = False):\n",
        "\n",
        "\n",
        "    if (k > 0 and k <= r - l + 1):\n",
        "  \n",
        "        index = pivot_select(arr, l,r)\n",
        "        if verbose == True: print(\"Pivote:\",index)\n",
        "  \n",
        "        if (index - l == k - 1):\n",
        "            return arr[index]\n",
        "  \n",
        "        if (index - l > k - 1):\n",
        "            return select(arr, l, index - 1, k)\n",
        "  \n",
        "        return select(arr, index + 1, r, \n",
        "                            k - index + l - 1)\n",
        "  "
      ],
      "metadata": {
        "id": "1Cr3Y4MhOTXc"
      },
      "execution_count": 4,
      "outputs": []
    },
    {
      "cell_type": "code",
      "source": [
        "arr = [ 10, 4, 5, 8, 6, 11, 26 ]\n",
        "n = max(arr)\n",
        "i = 3\n",
        "print(\"I-ESIMO ELEMENTO MÁS PEQUEÑO:\")\n",
        "print(select(arr, 0, n - 1, i, False))"
      ],
      "metadata": {
        "colab": {
          "base_uri": "https://localhost:8080/",
          "height": 363
        },
        "id": "KueBHVPOOU9-",
        "outputId": "b32314e9-c9d8-4888-d10b-e3fd1c842f6f"
      },
      "execution_count": 90,
      "outputs": [
        {
          "output_type": "stream",
          "name": "stdout",
          "text": [
            "I-ESIMO ELEMENTO MÁS PEQUEÑO:\n"
          ]
        },
        {
          "output_type": "error",
          "ename": "TypeError",
          "evalue": "ignored",
          "traceback": [
            "\u001b[0;31m---------------------------------------------------------------------------\u001b[0m",
            "\u001b[0;31mTypeError\u001b[0m                                 Traceback (most recent call last)",
            "\u001b[0;32m<ipython-input-90-91bb7fa7bd3d>\u001b[0m in \u001b[0;36m<module>\u001b[0;34m\u001b[0m\n\u001b[1;32m      3\u001b[0m \u001b[0mi\u001b[0m \u001b[0;34m=\u001b[0m \u001b[0;36m3\u001b[0m\u001b[0;34m\u001b[0m\u001b[0;34m\u001b[0m\u001b[0m\n\u001b[1;32m      4\u001b[0m \u001b[0mprint\u001b[0m\u001b[0;34m(\u001b[0m\u001b[0;34m\"I-ESIMO ELEMENTO MÁS PEQUEÑO:\"\u001b[0m\u001b[0;34m)\u001b[0m\u001b[0;34m\u001b[0m\u001b[0;34m\u001b[0m\u001b[0m\n\u001b[0;32m----> 5\u001b[0;31m \u001b[0mprint\u001b[0m\u001b[0;34m(\u001b[0m\u001b[0mselect\u001b[0m\u001b[0;34m(\u001b[0m\u001b[0marr\u001b[0m\u001b[0;34m,\u001b[0m \u001b[0;36m0\u001b[0m\u001b[0;34m,\u001b[0m \u001b[0mn\u001b[0m \u001b[0;34m-\u001b[0m \u001b[0;36m1\u001b[0m\u001b[0;34m,\u001b[0m \u001b[0mi\u001b[0m\u001b[0;34m,\u001b[0m \u001b[0;32mFalse\u001b[0m\u001b[0;34m)\u001b[0m\u001b[0;34m)\u001b[0m\u001b[0;34m\u001b[0m\u001b[0;34m\u001b[0m\u001b[0m\n\u001b[0m",
            "\u001b[0;32m<ipython-input-4-dd97b87b0df3>\u001b[0m in \u001b[0;36mselect\u001b[0;34m(arr, l, r, k, verbose)\u001b[0m\n\u001b[1;32m      3\u001b[0m     \u001b[0;32mif\u001b[0m \u001b[0;34m(\u001b[0m\u001b[0mk\u001b[0m \u001b[0;34m>\u001b[0m \u001b[0;36m0\u001b[0m \u001b[0;32mand\u001b[0m \u001b[0mk\u001b[0m \u001b[0;34m<=\u001b[0m \u001b[0mr\u001b[0m \u001b[0;34m-\u001b[0m \u001b[0ml\u001b[0m \u001b[0;34m+\u001b[0m \u001b[0;36m1\u001b[0m\u001b[0;34m)\u001b[0m\u001b[0;34m:\u001b[0m\u001b[0;34m\u001b[0m\u001b[0;34m\u001b[0m\u001b[0m\n\u001b[1;32m      4\u001b[0m \u001b[0;34m\u001b[0m\u001b[0m\n\u001b[0;32m----> 5\u001b[0;31m         \u001b[0mindex\u001b[0m \u001b[0;34m=\u001b[0m \u001b[0mpivot_select\u001b[0m\u001b[0;34m(\u001b[0m\u001b[0marr\u001b[0m\u001b[0;34m,\u001b[0m \u001b[0ml\u001b[0m\u001b[0;34m,\u001b[0m\u001b[0mr\u001b[0m\u001b[0;34m)\u001b[0m\u001b[0;34m\u001b[0m\u001b[0;34m\u001b[0m\u001b[0m\n\u001b[0m\u001b[1;32m      6\u001b[0m         \u001b[0;32mif\u001b[0m \u001b[0mverbose\u001b[0m \u001b[0;34m==\u001b[0m \u001b[0;32mTrue\u001b[0m\u001b[0;34m:\u001b[0m \u001b[0mprint\u001b[0m\u001b[0;34m(\u001b[0m\u001b[0;34m\"PIVOTE:\"\u001b[0m\u001b[0;34m,\u001b[0m\u001b[0mindex\u001b[0m\u001b[0;34m)\u001b[0m\u001b[0;34m\u001b[0m\u001b[0;34m\u001b[0m\u001b[0m\n\u001b[1;32m      7\u001b[0m \u001b[0;34m\u001b[0m\u001b[0m\n",
            "\u001b[0;32m<ipython-input-89-af72014bb3e6>\u001b[0m in \u001b[0;36mpivot_select\u001b[0;34m(arr, low, high)\u001b[0m\n\u001b[1;32m     15\u001b[0m     \u001b[0marr\u001b[0m\u001b[0;34m[\u001b[0m\u001b[0mrangoLow\u001b[0m\u001b[0;34m:\u001b[0m\u001b[0mrangoHigh\u001b[0m \u001b[0;34m+\u001b[0m \u001b[0;36m1\u001b[0m\u001b[0;34m]\u001b[0m \u001b[0;34m=\u001b[0m \u001b[0minsertionSort\u001b[0m\u001b[0;34m(\u001b[0m\u001b[0marr\u001b[0m\u001b[0;34m[\u001b[0m\u001b[0mrangoLow\u001b[0m\u001b[0;34m:\u001b[0m\u001b[0mrangoHigh\u001b[0m \u001b[0;34m+\u001b[0m \u001b[0;36m1\u001b[0m\u001b[0;34m]\u001b[0m\u001b[0;34m)\u001b[0m\u001b[0;34m\u001b[0m\u001b[0;34m\u001b[0m\u001b[0m\n\u001b[1;32m     16\u001b[0m     \u001b[0mindice_medianas\u001b[0m\u001b[0;34m.\u001b[0m\u001b[0mappend\u001b[0m\u001b[0;34m(\u001b[0m\u001b[0;34m(\u001b[0m\u001b[0mrangoHigh\u001b[0m \u001b[0;34m+\u001b[0m \u001b[0mrangoLow\u001b[0m\u001b[0;34m)\u001b[0m\u001b[0;34m//\u001b[0m\u001b[0;36m2\u001b[0m\u001b[0;34m)\u001b[0m\u001b[0;34m\u001b[0m\u001b[0;34m\u001b[0m\u001b[0m\n\u001b[0;32m---> 17\u001b[0;31m     \u001b[0mmedianas\u001b[0m\u001b[0;34m(\u001b[0m\u001b[0marr\u001b[0m\u001b[0;34m[\u001b[0m\u001b[0mindice_medianas\u001b[0m\u001b[0;34m[\u001b[0m\u001b[0mk\u001b[0m\u001b[0;34m]\u001b[0m\u001b[0;34m]\u001b[0m\u001b[0;34m)\u001b[0m\u001b[0;34m\u001b[0m\u001b[0;34m\u001b[0m\u001b[0m\n\u001b[0m\u001b[1;32m     18\u001b[0m \u001b[0;34m\u001b[0m\u001b[0m\n\u001b[1;32m     19\u001b[0m   \u001b[0mmedianas\u001b[0m \u001b[0;34m=\u001b[0m \u001b[0minsertionSort\u001b[0m\u001b[0;34m(\u001b[0m\u001b[0mmedianas\u001b[0m\u001b[0;34m)\u001b[0m\u001b[0;34m\u001b[0m\u001b[0;34m\u001b[0m\u001b[0m\n",
            "\u001b[0;31mTypeError\u001b[0m: 'list' object is not callable"
          ]
        }
      ]
    },
    {
      "cell_type": "markdown",
      "source": [
        "## 3.1) Ejecucion paso a paso"
      ],
      "metadata": {
        "id": "aPCSe4XIOXy2"
      }
    },
    {
      "cell_type": "code",
      "source": [
        "arr = [ 10, 4, 5, 8, 6, 11, 26 ]\n",
        "n = max(arr)\n",
        "k = 3\n",
        "print(\"I-ESIMO ELEMENTO MÁS PEQUEÑO:\")\n",
        "print(select(arr, 0, n - 1, k,True))"
      ],
      "metadata": {
        "colab": {
          "base_uri": "https://localhost:8080/",
          "height": 363
        },
        "id": "xCs-X6igObir",
        "outputId": "ef3c0d10-7c7c-43d5-9b9b-bb69dc45ddc5"
      },
      "execution_count": 86,
      "outputs": [
        {
          "output_type": "stream",
          "name": "stdout",
          "text": [
            "I-ESIMO ELEMENTO MÁS PEQUEÑO:\n"
          ]
        },
        {
          "output_type": "error",
          "ename": "IndexError",
          "evalue": "ignored",
          "traceback": [
            "\u001b[0;31m---------------------------------------------------------------------------\u001b[0m",
            "\u001b[0;31mIndexError\u001b[0m                                Traceback (most recent call last)",
            "\u001b[0;32m<ipython-input-86-4087df8fbccb>\u001b[0m in \u001b[0;36m<module>\u001b[0;34m\u001b[0m\n\u001b[1;32m      3\u001b[0m \u001b[0mk\u001b[0m \u001b[0;34m=\u001b[0m \u001b[0;36m3\u001b[0m\u001b[0;34m\u001b[0m\u001b[0;34m\u001b[0m\u001b[0m\n\u001b[1;32m      4\u001b[0m \u001b[0mprint\u001b[0m\u001b[0;34m(\u001b[0m\u001b[0;34m\"I-ESIMO ELEMENTO MÁS PEQUEÑO:\"\u001b[0m\u001b[0;34m)\u001b[0m\u001b[0;34m\u001b[0m\u001b[0;34m\u001b[0m\u001b[0m\n\u001b[0;32m----> 5\u001b[0;31m \u001b[0mprint\u001b[0m\u001b[0;34m(\u001b[0m\u001b[0mselect\u001b[0m\u001b[0;34m(\u001b[0m\u001b[0marr\u001b[0m\u001b[0;34m,\u001b[0m \u001b[0;36m0\u001b[0m\u001b[0;34m,\u001b[0m \u001b[0mn\u001b[0m \u001b[0;34m-\u001b[0m \u001b[0;36m1\u001b[0m\u001b[0;34m,\u001b[0m \u001b[0mk\u001b[0m\u001b[0;34m,\u001b[0m\u001b[0;32mTrue\u001b[0m\u001b[0;34m)\u001b[0m\u001b[0;34m)\u001b[0m\u001b[0;34m\u001b[0m\u001b[0;34m\u001b[0m\u001b[0m\n\u001b[0m",
            "\u001b[0;32m<ipython-input-4-dd97b87b0df3>\u001b[0m in \u001b[0;36mselect\u001b[0;34m(arr, l, r, k, verbose)\u001b[0m\n\u001b[1;32m      3\u001b[0m     \u001b[0;32mif\u001b[0m \u001b[0;34m(\u001b[0m\u001b[0mk\u001b[0m \u001b[0;34m>\u001b[0m \u001b[0;36m0\u001b[0m \u001b[0;32mand\u001b[0m \u001b[0mk\u001b[0m \u001b[0;34m<=\u001b[0m \u001b[0mr\u001b[0m \u001b[0;34m-\u001b[0m \u001b[0ml\u001b[0m \u001b[0;34m+\u001b[0m \u001b[0;36m1\u001b[0m\u001b[0;34m)\u001b[0m\u001b[0;34m:\u001b[0m\u001b[0;34m\u001b[0m\u001b[0;34m\u001b[0m\u001b[0m\n\u001b[1;32m      4\u001b[0m \u001b[0;34m\u001b[0m\u001b[0m\n\u001b[0;32m----> 5\u001b[0;31m         \u001b[0mindex\u001b[0m \u001b[0;34m=\u001b[0m \u001b[0mpivot_select\u001b[0m\u001b[0;34m(\u001b[0m\u001b[0marr\u001b[0m\u001b[0;34m,\u001b[0m \u001b[0ml\u001b[0m\u001b[0;34m,\u001b[0m\u001b[0mr\u001b[0m\u001b[0;34m)\u001b[0m\u001b[0;34m\u001b[0m\u001b[0;34m\u001b[0m\u001b[0m\n\u001b[0m\u001b[1;32m      6\u001b[0m         \u001b[0;32mif\u001b[0m \u001b[0mverbose\u001b[0m \u001b[0;34m==\u001b[0m \u001b[0;32mTrue\u001b[0m\u001b[0;34m:\u001b[0m \u001b[0mprint\u001b[0m\u001b[0;34m(\u001b[0m\u001b[0;34m\"PIVOTE:\"\u001b[0m\u001b[0;34m,\u001b[0m\u001b[0mindex\u001b[0m\u001b[0;34m)\u001b[0m\u001b[0;34m\u001b[0m\u001b[0;34m\u001b[0m\u001b[0m\n\u001b[1;32m      7\u001b[0m \u001b[0;34m\u001b[0m\u001b[0m\n",
            "\u001b[0;32m<ipython-input-83-e5a8f5621251>\u001b[0m in \u001b[0;36mpivot_select\u001b[0;34m(arr, low, high)\u001b[0m\n\u001b[1;32m     25\u001b[0m       \u001b[0;32mbreak\u001b[0m\u001b[0;34m\u001b[0m\u001b[0;34m\u001b[0m\u001b[0m\n\u001b[1;32m     26\u001b[0m \u001b[0;34m\u001b[0m\u001b[0m\n\u001b[0;32m---> 27\u001b[0;31m   \u001b[0;34m(\u001b[0m\u001b[0marr\u001b[0m\u001b[0;34m[\u001b[0m\u001b[0mhigh\u001b[0m\u001b[0;34m]\u001b[0m\u001b[0;34m,\u001b[0m \u001b[0marr\u001b[0m\u001b[0;34m[\u001b[0m\u001b[0mi\u001b[0m\u001b[0;34m]\u001b[0m\u001b[0;34m)\u001b[0m \u001b[0;34m=\u001b[0m \u001b[0;34m(\u001b[0m\u001b[0marr\u001b[0m\u001b[0;34m[\u001b[0m\u001b[0mi\u001b[0m\u001b[0;34m]\u001b[0m\u001b[0;34m,\u001b[0m \u001b[0marr\u001b[0m\u001b[0;34m[\u001b[0m\u001b[0mhigh\u001b[0m\u001b[0;34m]\u001b[0m\u001b[0;34m)\u001b[0m\u001b[0;34m\u001b[0m\u001b[0;34m\u001b[0m\u001b[0m\n\u001b[0m\u001b[1;32m     28\u001b[0m   \u001b[0;32mreturn\u001b[0m \u001b[0mpartition\u001b[0m\u001b[0;34m(\u001b[0m\u001b[0marr\u001b[0m\u001b[0;34m,\u001b[0m\u001b[0mlow\u001b[0m\u001b[0;34m,\u001b[0m\u001b[0mhigh\u001b[0m\u001b[0;34m)\u001b[0m\u001b[0;34m\u001b[0m\u001b[0;34m\u001b[0m\u001b[0m\n\u001b[1;32m     29\u001b[0m \u001b[0;34m\u001b[0m\u001b[0m\n",
            "\u001b[0;31mIndexError\u001b[0m: list index out of range"
          ]
        }
      ]
    },
    {
      "cell_type": "markdown",
      "source": [
        "# 4) Tiempo de ejecución"
      ],
      "metadata": {
        "id": "_BHYlZVBwbMP"
      }
    },
    {
      "cell_type": "markdown",
      "source": [
        "Cada elemento perteneciente al arreglo A[ low high ] tiene la misma probabilidad de ser elegido como pivote $->$ A[low, high] tiene tamaño k con probabilidad $\\frac {1}{n}$ $($ A[ ] tiene n elemento $)$\n",
        "\n",
        "-> Xn = I \n",
        "\n",
        "-> E[En] = 1/n\n",
        "\n",
        "\n",
        "\n",
        "-> A[low, q - 1] -> k -1 elementos    \n",
        "                                  \n",
        "-> A[q + 1, high] -> n - k elementos   \n",
        "\n",
        "=> estos elementos tienen un Xn = 1\n",
        "\n",
        "por lo que \n",
        "\n",
        "* Para el peor caso a escoger seria el mas grande entre k - 1 y n - k \n",
        " (rucursividad al mayor subarreglo) \n",
        "\n",
        "> ---> T(n) =  $\\displaystyle \\sum_{k = 1}^{n}X_n $ T(max(k - 1, n - h)) = O(n), E[Xn]  (  O(n) es la partición  )\n",
        "\n",
        "\n",
        "*  Tiempo de ejecución esperando\n",
        "\n",
        " \n",
        "> ---> E[T(n)] = $\\displaystyle \\sum_{k=1}^{a} \\frac{1}{n}\\ $\n",
        "E[T(max(k - 1, n - k))] + O(n), E[Xn] = 1/n\n",
        "\n",
        "\n",
        "> E[T(n)] $ \\leq$ $\\displaystyle \\sum_{k=n/2}^{n} \\frac{2}{n}\\ $\n",
        "=$>$ E[T(n)] = O(n) ( Por inducción )\n",
        "\n",
        "> cn $ \\leq$ $\\frac {2}{n}$ c $\\displaystyle \\sum_{k=n/2}^{n} k\\  $\n",
        "$ + $ dn\n",
        "\n",
        "> $\\displaystyle \\sum_{k=n/2}^{n -1} \\frac{2}{n}\\ $\n",
        "$ - $ $\\displaystyle \\sum_{k=n/2}^{n/2 - 1}  $\n",
        "\n",
        "\n",
        "\n",
        "> cn $ \\leq$ $\\frac {c}{n}$  $($ $\\frac {(3 n^2 )}{4}$ $+$ $\\frac {1}{2}$ $- 2$ $)$ $+dn$ \n",
        "\n",
        "\n",
        "> cn $ \\leq$ $\\frac {3n^2}{4}$ $+$ $\\frac {c}{2}$ $+$ $dn$\n",
        "\n",
        "\n",
        "> $n \\geqslant  $ $\\frac {2c}{c*4d}$ , donde  existe un c $\\neq$ $4d$ y un $n$ $>$ $n_0$ tal que la innecuación se cumple \n",
        "\n",
        "\n",
        "> Con esto podemos decir que para los cosos promedios de ejecución el tiempo sera de O(n) y para los peores casos el tiempo de ejecucion sera de O($n^2$)\n",
        " "
      ],
      "metadata": {
        "id": "6DtGIuc_wkJ-"
      }
    },
    {
      "cell_type": "markdown",
      "source": [
        "# 5) Correctitud"
      ],
      "metadata": {
        "id": "2zhSQqnxwkdi"
      }
    },
    {
      "cell_type": "markdown",
      "source": [
        "Con un arreglo de tamaño n podemos decir por induccón\n",
        "\n",
        "\n",
        "$Caso$ $ n = 1$\n",
        "\n",
        "> Entonces con $i$ $=$ $1$, $p$ $=$ $r$,  y el $i$-esimo es A[ $p$ ]  = A[ $r$ ] \n",
        "\n",
        "$Caso$ $n > 1$\n",
        "\n",
        "> Con un pivote $\"q\"$ este siendo la mediana del arreglo de medianas de forma tal que A[ $j$ ] $<$ A[ $q$ ] $<$ A[ $k$ ] para todo $j$ y $k$ con $p$ $\\leq$ $q$ $<$ $k$ $\\leq$ $r$\n",
        "\n",
        "Donde $p$ y $r$ son los valores menores y mayores del arreglo respectivamente\n",
        "\n",
        "> Tenemos que para un $k$ $=$ $q$ $-$ $p$ $+$ $1$\n",
        "\n",
        "\n",
        "*  El k-esimo elemento del arreglo A[ $p$....$r$ ] es A[ $q$ ]\n",
        "* Si $i$ $<$ $k$, entonces el i-esimo elemento del arreglo A[ $p$....$r$ ] es eli-esimo elemento del arreglo A[ $p$....$q - 1$ ]\n",
        "* Si $i$ $>$ $k$, entonces el i-esimo elemento de A[ $p$....$r$ ] es el i-esimo elemento de A[ $q + 1$....$r$ ]\n",
        "\n",
        "> Por lo que podemos afirmar que si esto se cumple para un $n$ $>$ $1$ \n",
        "\n",
        "> Como ejemplo, al rutear un arrglo A[$1,2,3,4,5$] ademas nosotros queremos buscar el valor de la 4 posicion ( $i = 4$ ) entonces tenemos los siguientes valores:\n",
        "\n",
        "* $q = 3$  \n",
        "* $p = 1$\n",
        "* $r = 5$\n",
        "* $k = 3$\n",
        "\n",
        "> Nuestro $i$ es $>$ que nuestro $k$ por lo que el select nos dice que va a buscar los valores la parte derecha del arreglo A[ $q + 1$ ]\n",
        " hasta llegar a $r$ el cual es el ultimo valor del arreglo A, por lo que esto se cumple y al cumplirse en ese caso con un $n = 5$ podemos decir que se cumple para todo otro caso donde $n > 1$ .\n"
      ],
      "metadata": {
        "id": "WgOhGWDewqtJ"
      }
    },
    {
      "cell_type": "markdown",
      "source": [
        "# 6) Experimentos"
      ],
      "metadata": {
        "id": "cl1N4c2YwrIN"
      }
    },
    {
      "cell_type": "code",
      "source": [
        "import matplotlib.pyplot as plt\n",
        "import datetime\n",
        "from timeit import repeat\n",
        "import random\n",
        "\n",
        "x=[]; y=[]\n",
        "y1=[n**2 for n in range(5,20)] \n",
        "y2=[n for n in range(5,20)] \n",
        "\n",
        "for n in range(5,500):\n",
        "\n",
        "  a = random.sample(range(1, 1000), n)\n",
        "\n",
        "  t = repeat(setup=\"from __main__ import select\", stmt=f\"select({a})\", repeat=1, number=10)\n",
        "\n",
        "  x.append(n)\n",
        "  y.append(t)\n",
        "\n",
        "\n",
        "plt.plot(x,y)\n",
        "plt.legend([\"select\"])\n",
        "\n",
        "plt.xlabel('n')\n",
        "plt.ylabel('time in ms')\n",
        "plt.show()"
      ],
      "metadata": {
        "id": "eW1NYUJyedQa",
        "outputId": "2db5b907-cf48-4b95-ca57-1a41e12910fc",
        "colab": {
          "base_uri": "https://localhost:8080/",
          "height": 294
        }
      },
      "execution_count": 77,
      "outputs": [
        {
          "output_type": "error",
          "ename": "TypeError",
          "evalue": "ignored",
          "traceback": [
            "\u001b[0;31m---------------------------------------------------------------------------\u001b[0m",
            "\u001b[0;31mTypeError\u001b[0m                                 Traceback (most recent call last)",
            "\u001b[0;32m<ipython-input-77-86664dcd5492>\u001b[0m in \u001b[0;36m<module>\u001b[0;34m\u001b[0m\n\u001b[1;32m     12\u001b[0m   \u001b[0ma\u001b[0m \u001b[0;34m=\u001b[0m \u001b[0mrandom\u001b[0m\u001b[0;34m.\u001b[0m\u001b[0msample\u001b[0m\u001b[0;34m(\u001b[0m\u001b[0mrange\u001b[0m\u001b[0;34m(\u001b[0m\u001b[0;36m1\u001b[0m\u001b[0;34m,\u001b[0m \u001b[0;36m1000\u001b[0m\u001b[0;34m)\u001b[0m\u001b[0;34m,\u001b[0m \u001b[0mn\u001b[0m\u001b[0;34m)\u001b[0m\u001b[0;34m\u001b[0m\u001b[0;34m\u001b[0m\u001b[0m\n\u001b[1;32m     13\u001b[0m \u001b[0;34m\u001b[0m\u001b[0m\n\u001b[0;32m---> 14\u001b[0;31m   \u001b[0mt\u001b[0m \u001b[0;34m=\u001b[0m \u001b[0mrepeat\u001b[0m\u001b[0;34m(\u001b[0m\u001b[0msetup\u001b[0m\u001b[0;34m=\u001b[0m\u001b[0;34m\"from __main__ import select\"\u001b[0m\u001b[0;34m,\u001b[0m \u001b[0mstmt\u001b[0m\u001b[0;34m=\u001b[0m\u001b[0;34mf\"select({a})\"\u001b[0m\u001b[0;34m,\u001b[0m \u001b[0mrepeat\u001b[0m\u001b[0;34m=\u001b[0m\u001b[0;36m1\u001b[0m\u001b[0;34m,\u001b[0m \u001b[0mnumber\u001b[0m\u001b[0;34m=\u001b[0m\u001b[0;36m10\u001b[0m\u001b[0;34m)\u001b[0m\u001b[0;34m\u001b[0m\u001b[0;34m\u001b[0m\u001b[0m\n\u001b[0m\u001b[1;32m     15\u001b[0m \u001b[0;34m\u001b[0m\u001b[0m\n\u001b[1;32m     16\u001b[0m   \u001b[0mx\u001b[0m\u001b[0;34m.\u001b[0m\u001b[0mappend\u001b[0m\u001b[0;34m(\u001b[0m\u001b[0mn\u001b[0m\u001b[0;34m)\u001b[0m\u001b[0;34m\u001b[0m\u001b[0;34m\u001b[0m\u001b[0m\n",
            "\u001b[0;32m/usr/lib/python3.7/timeit.py\u001b[0m in \u001b[0;36mrepeat\u001b[0;34m(stmt, setup, timer, repeat, number, globals)\u001b[0m\n\u001b[1;32m    236\u001b[0m            repeat=default_repeat, number=default_number, globals=None):\n\u001b[1;32m    237\u001b[0m     \u001b[0;34m\"\"\"Convenience function to create Timer object and call repeat method.\"\"\"\u001b[0m\u001b[0;34m\u001b[0m\u001b[0;34m\u001b[0m\u001b[0m\n\u001b[0;32m--> 238\u001b[0;31m     \u001b[0;32mreturn\u001b[0m \u001b[0mTimer\u001b[0m\u001b[0;34m(\u001b[0m\u001b[0mstmt\u001b[0m\u001b[0;34m,\u001b[0m \u001b[0msetup\u001b[0m\u001b[0;34m,\u001b[0m \u001b[0mtimer\u001b[0m\u001b[0;34m,\u001b[0m \u001b[0mglobals\u001b[0m\u001b[0;34m)\u001b[0m\u001b[0;34m.\u001b[0m\u001b[0mrepeat\u001b[0m\u001b[0;34m(\u001b[0m\u001b[0mrepeat\u001b[0m\u001b[0;34m,\u001b[0m \u001b[0mnumber\u001b[0m\u001b[0;34m)\u001b[0m\u001b[0;34m\u001b[0m\u001b[0;34m\u001b[0m\u001b[0m\n\u001b[0m\u001b[1;32m    239\u001b[0m \u001b[0;34m\u001b[0m\u001b[0m\n\u001b[1;32m    240\u001b[0m \u001b[0;32mdef\u001b[0m \u001b[0mmain\u001b[0m\u001b[0;34m(\u001b[0m\u001b[0margs\u001b[0m\u001b[0;34m=\u001b[0m\u001b[0;32mNone\u001b[0m\u001b[0;34m,\u001b[0m \u001b[0;34m*\u001b[0m\u001b[0;34m,\u001b[0m \u001b[0m_wrap_timer\u001b[0m\u001b[0;34m=\u001b[0m\u001b[0;32mNone\u001b[0m\u001b[0;34m)\u001b[0m\u001b[0;34m:\u001b[0m\u001b[0;34m\u001b[0m\u001b[0;34m\u001b[0m\u001b[0m\n",
            "\u001b[0;32m/usr/lib/python3.7/timeit.py\u001b[0m in \u001b[0;36mrepeat\u001b[0;34m(self, repeat, number)\u001b[0m\n\u001b[1;32m    203\u001b[0m         \u001b[0mr\u001b[0m \u001b[0;34m=\u001b[0m \u001b[0;34m[\u001b[0m\u001b[0;34m]\u001b[0m\u001b[0;34m\u001b[0m\u001b[0;34m\u001b[0m\u001b[0m\n\u001b[1;32m    204\u001b[0m         \u001b[0;32mfor\u001b[0m \u001b[0mi\u001b[0m \u001b[0;32min\u001b[0m \u001b[0mrange\u001b[0m\u001b[0;34m(\u001b[0m\u001b[0mrepeat\u001b[0m\u001b[0;34m)\u001b[0m\u001b[0;34m:\u001b[0m\u001b[0;34m\u001b[0m\u001b[0;34m\u001b[0m\u001b[0m\n\u001b[0;32m--> 205\u001b[0;31m             \u001b[0mt\u001b[0m \u001b[0;34m=\u001b[0m \u001b[0mself\u001b[0m\u001b[0;34m.\u001b[0m\u001b[0mtimeit\u001b[0m\u001b[0;34m(\u001b[0m\u001b[0mnumber\u001b[0m\u001b[0;34m)\u001b[0m\u001b[0;34m\u001b[0m\u001b[0;34m\u001b[0m\u001b[0m\n\u001b[0m\u001b[1;32m    206\u001b[0m             \u001b[0mr\u001b[0m\u001b[0;34m.\u001b[0m\u001b[0mappend\u001b[0m\u001b[0;34m(\u001b[0m\u001b[0mt\u001b[0m\u001b[0;34m)\u001b[0m\u001b[0;34m\u001b[0m\u001b[0;34m\u001b[0m\u001b[0m\n\u001b[1;32m    207\u001b[0m         \u001b[0;32mreturn\u001b[0m \u001b[0mr\u001b[0m\u001b[0;34m\u001b[0m\u001b[0;34m\u001b[0m\u001b[0m\n",
            "\u001b[0;32m/usr/lib/python3.7/timeit.py\u001b[0m in \u001b[0;36mtimeit\u001b[0;34m(self, number)\u001b[0m\n\u001b[1;32m    175\u001b[0m         \u001b[0mgc\u001b[0m\u001b[0;34m.\u001b[0m\u001b[0mdisable\u001b[0m\u001b[0;34m(\u001b[0m\u001b[0;34m)\u001b[0m\u001b[0;34m\u001b[0m\u001b[0;34m\u001b[0m\u001b[0m\n\u001b[1;32m    176\u001b[0m         \u001b[0;32mtry\u001b[0m\u001b[0;34m:\u001b[0m\u001b[0;34m\u001b[0m\u001b[0;34m\u001b[0m\u001b[0m\n\u001b[0;32m--> 177\u001b[0;31m             \u001b[0mtiming\u001b[0m \u001b[0;34m=\u001b[0m \u001b[0mself\u001b[0m\u001b[0;34m.\u001b[0m\u001b[0minner\u001b[0m\u001b[0;34m(\u001b[0m\u001b[0mit\u001b[0m\u001b[0;34m,\u001b[0m \u001b[0mself\u001b[0m\u001b[0;34m.\u001b[0m\u001b[0mtimer\u001b[0m\u001b[0;34m)\u001b[0m\u001b[0;34m\u001b[0m\u001b[0;34m\u001b[0m\u001b[0m\n\u001b[0m\u001b[1;32m    178\u001b[0m         \u001b[0;32mfinally\u001b[0m\u001b[0;34m:\u001b[0m\u001b[0;34m\u001b[0m\u001b[0;34m\u001b[0m\u001b[0m\n\u001b[1;32m    179\u001b[0m             \u001b[0;32mif\u001b[0m \u001b[0mgcold\u001b[0m\u001b[0;34m:\u001b[0m\u001b[0;34m\u001b[0m\u001b[0;34m\u001b[0m\u001b[0m\n",
            "\u001b[0;32m/usr/lib/python3.7/timeit.py\u001b[0m in \u001b[0;36minner\u001b[0;34m(_it, _timer)\u001b[0m\n",
            "\u001b[0;31mTypeError\u001b[0m: select() missing 3 required positional arguments: 'l', 'r', and 'k'"
          ]
        }
      ]
    },
    {
      "cell_type": "code",
      "source": [
        "import random\n",
        " \n",
        "a, b = None, None;\n",
        "\n",
        "def Partition(arr, l, r) :\n",
        " \n",
        "    lst = arr[r]; i = l; j = l;\n",
        "    while (j < r) :\n",
        "        if (arr[j] < lst) :\n",
        "            arr[i], arr[j] = arr[j],arr[i];\n",
        "            i += 1;\n",
        "         \n",
        "        j += 1;\n",
        " \n",
        "    arr[i], arr[r] = arr[r],arr[i];\n",
        "    return i;\n",
        " \n",
        "\n",
        "def randomPartition(arr, l, r) :\n",
        "    n = r - l + 1;\n",
        "    pivot = random.randrange(1, 100) % n;\n",
        "    arr[l + pivot], arr[r] = arr[r], arr[l + pivot];\n",
        "    return Partition(arr, l, r);\n",
        " \n",
        "\n",
        "def MedianUtil(arr, l, r,\n",
        "                k, a1, b1) :\n",
        " \n",
        "    global a, b;\n",
        "     \n",
        "\n",
        "    if (l <= r) :\n",
        "         \n",
        "\n",
        "        partitionIndex = randomPartition(arr, l, r);\n",
        "\n",
        "        if (partitionIndex == k) :\n",
        "            b = arr[partitionIndex];\n",
        "            if (a1 != -1) :\n",
        "                return;\n",
        "\n",
        "        elif (partitionIndex == k - 1) :\n",
        "            a = arr[partitionIndex];\n",
        "            if (b1 != -1) :\n",
        "                return;\n",
        "\n",
        "        if (partitionIndex >= k) :\n",
        "            return MedianUtil(arr, l, partitionIndex - 1, k, a, b);\n",
        "\n",
        "        else :\n",
        "            return MedianUtil(arr, partitionIndex + 1, r, k, a, b);\n",
        "             \n",
        "    return;\n",
        "\n",
        "def findMedian(arr, n) :\n",
        "    global a;\n",
        "    global b;\n",
        "    a = -1;\n",
        "    b = -1;\n",
        "\n",
        "    if (n % 2 == 1) :\n",
        "        MedianUtil(arr, 0, n - 1, n // 2, a, b);\n",
        "        ans = b;\n",
        "\n",
        "    else :\n",
        "        MedianUtil(arr, 0, n - 1, n // 2, a, b);\n",
        "        ans = (a + b) // 2;\n",
        "\n",
        "    print(\"Median = \" ,ans);\n",
        " \n",
        " "
      ],
      "metadata": {
        "id": "57mM6PLWhPbB"
      },
      "execution_count": null,
      "outputs": []
    }
  ]
}